{
 "cells": [
  {
   "cell_type": "code",
   "execution_count": 1,
   "metadata": {},
   "outputs": [
    {
     "ename": "ModuleNotFoundError",
     "evalue": "No module named 'pandas'",
     "output_type": "error",
     "traceback": [
      "\u001b[1;31m---------------------------------------------------------------------------\u001b[0m",
      "\u001b[1;31mModuleNotFoundError\u001b[0m                       Traceback (most recent call last)",
      "Input \u001b[1;32mIn [1]\u001b[0m, in \u001b[0;36m<cell line: 1>\u001b[1;34m()\u001b[0m\n\u001b[1;32m----> 1\u001b[0m \u001b[38;5;28;01mfrom\u001b[39;00m \u001b[38;5;21;01mrandom_walk_td_vs_mc\u001b[39;00m \u001b[38;5;28;01mimport\u001b[39;00m RandomWalkTDvsMC\n",
      "File \u001b[1;32md:\\Public_repository\\mutual_information\\videos\\td_learning_sarsa_and_q_learning\\random_walk_td_vs_mc.py:2\u001b[0m, in \u001b[0;36m<module>\u001b[1;34m\u001b[0m\n\u001b[0;32m      1\u001b[0m \u001b[38;5;28;01mimport\u001b[39;00m \u001b[38;5;21;01mnumpy\u001b[39;00m \u001b[38;5;28;01mas\u001b[39;00m \u001b[38;5;21;01mnp\u001b[39;00m\n\u001b[1;32m----> 2\u001b[0m \u001b[38;5;28;01mimport\u001b[39;00m \u001b[38;5;21;01mpandas\u001b[39;00m \u001b[38;5;28;01mas\u001b[39;00m \u001b[38;5;21;01mpd\u001b[39;00m\n\u001b[0;32m      3\u001b[0m \u001b[38;5;28;01mimport\u001b[39;00m \u001b[38;5;21;01maltair\u001b[39;00m \u001b[38;5;28;01mas\u001b[39;00m \u001b[38;5;21;01malt\u001b[39;00m\n\u001b[0;32m      4\u001b[0m \u001b[38;5;28;01mfrom\u001b[39;00m \u001b[38;5;21;01mtqdm\u001b[39;00m \u001b[38;5;28;01mimport\u001b[39;00m tqdm\n",
      "\u001b[1;31mModuleNotFoundError\u001b[0m: No module named 'pandas'"
     ]
    }
   ],
   "source": [
    "from random_walk_td_vs_mc import RandomWalkTDvsMC"
   ]
  },
  {
   "cell_type": "code",
   "execution_count": 2,
   "metadata": {},
   "outputs": [
    {
     "name": "stdout",
     "output_type": "stream",
     "text": [
      "Help on class RandomWalkTDvsMC in module random_walk_td_vs_mc:\n",
      "\n",
      "class RandomWalkTDvsMC(builtins.object)\n",
      " |  RandomWalkTDvsMC(n_states: int, n_algo_runs: int, M: int, seed: int = 0)\n",
      " |  \n",
      " |  This class runs many simulations of the Monte Carlo and Temporal Difference algorithms on the Random Walk evaluation\n",
      " |  task, for a variety of values of the parameters alpha and n_steps. The results are stored in the self.MC_runs and\n",
      " |  self.TD_runs attributes, which are dataframes. Since running all these simulations may take a long time, this class\n",
      " |  stores results in the /data folder. So if you run the simulations, close the notebook and re-run, you'll begin\n",
      " |  wherever you left off.\n",
      " |  \n",
      " |  The class attributes of mc_alphas, td_alphas and n_steps determine the set of hyperparameters over which we will\n",
      " |  run these algorithms (for TD, it's every combination of td_alphas and n_steps).\n",
      " |  \n",
      " |  Methods defined here:\n",
      " |  \n",
      " |  __init__(self, n_states: int, n_algo_runs: int, M: int, seed: int = 0)\n",
      " |      Parameters\n",
      " |      ----------\n",
      " |      n_states: number of states\n",
      " |      n_algo_runs: number of runs of each algorithm (Monte Carlo and Temporal Difference)\n",
      " |      M: number of episodes per run of each algorithm.\n",
      " |  \n",
      " |  generate_all_episodes(self)\n",
      " |      Generates all episode data for applying MC and TD. The object returned, 'episode_runs', is a list of list of\n",
      " |      lists, where:\n",
      " |      \n",
      " |          episode_runs[k][m]\n",
      " |      \n",
      " |      is the m-th episode from the k-th run of episodes. Each episode is a list of positions.\n",
      " |  \n",
      " |  get_error_summary(self, errors_filtered: pandas.core.frame.DataFrame)\n",
      " |      Given a dataframe filtered down to particular hyperparameters (alphas and n_steps) for either TD or MC, this\n",
      " |      will return a dataframe giving the average error after processing m episode, along with lower_percentile-th to\n",
      " |      upper_percentile-th percentile performance.\n",
      " |  \n",
      " |  get_errors(self, which)\n",
      " |  \n",
      " |  get_init_V(self)\n",
      " |      Creates the initial value function table with all zeros.\n",
      " |  \n",
      " |  plot_errors_td_vs_mc(self, alpha_mc, alpha_td, n_steps, width=300, height=300)\n",
      " |      As seen in the video, creates the TD vs MC plot for a given set of hyperparameters.\n",
      " |  \n",
      " |  run_mc(self, run_idx, alpha)\n",
      " |      Runs the Monte Carlo algorithm. Returns a wide table giving the value function following the processing of each\n",
      " |      episode from the run_idx-th run of episodes.\n",
      " |      \n",
      " |      Parameters\n",
      " |      ----------\n",
      " |      run_idx: index of the run of episodes to use.\n",
      " |      alpha: the stepsize used for the MC update rule.\n",
      " |  \n",
      " |  run_mc_all(self)\n",
      " |  \n",
      " |  run_mc_multi_run(self, alpha)\n",
      " |  \n",
      " |  run_td(self, run_idx, alpha, n_steps)\n",
      " |      Runs the Temporal Difference algorithm. Returns a wide table giving the value function following the processing\n",
      " |      of each episode from the run_idx-th run of episodes.\n",
      " |      \n",
      " |      Parameters\n",
      " |      ----------\n",
      " |      run_idx: index of the run of episodes to use.\n",
      " |      alpha: the stepsize used for the TD update rule.\n",
      " |      n_steps: number of steps to use for the TD update rule.\n",
      " |  \n",
      " |  run_td_all(self)\n",
      " |  \n",
      " |  run_td_multi_run(self, alpha, n_steps)\n",
      " |  \n",
      " |  sample_ep(self)\n",
      " |      Sample one episode\n",
      " |  \n",
      " |  ----------------------------------------------------------------------\n",
      " |  Data descriptors defined here:\n",
      " |  \n",
      " |  __dict__\n",
      " |      dictionary for instance variables (if defined)\n",
      " |  \n",
      " |  __weakref__\n",
      " |      list of weak references to the object (if defined)\n",
      " |  \n",
      " |  ----------------------------------------------------------------------\n",
      " |  Data and other attributes defined here:\n",
      " |  \n",
      " |  initial_v = 0.5\n",
      " |  \n",
      " |  mc_alphas = [0.001, 0.01, 0.03, 0.05, 0.08, 0.1]\n",
      " |  \n",
      " |  n_steps = [1, 2, 4, 16, 64]\n",
      " |  \n",
      " |  td_alphas = [0.001, 0.01, 0.03, 0.05, 0.08, 0.1, 0.16, 0.2, 0.6, 1.0]\n",
      "\n"
     ]
    }
   ],
   "source": [
    "help(RandomWalkTDvsMC)"
   ]
  },
  {
   "cell_type": "code",
   "execution_count": 3,
   "metadata": {},
   "outputs": [],
   "source": [
    "td_vs_mc = RandomWalkTDvsMC(n_states = 7, n_algo_runs = 20, M=60, seed=0)"
   ]
  },
  {
   "cell_type": "markdown",
   "metadata": {},
   "source": [
    "### Run MC"
   ]
  },
  {
   "cell_type": "code",
   "execution_count": 4,
   "metadata": {},
   "outputs": [
    {
     "name": "stdout",
     "output_type": "stream",
     "text": [
      "Loading all runs for MC\n"
     ]
    }
   ],
   "source": [
    "td_vs_mc.run_mc_all()"
   ]
  },
  {
   "cell_type": "markdown",
   "metadata": {},
   "source": [
    "### Run TD"
   ]
  },
  {
   "cell_type": "code",
   "execution_count": 5,
   "metadata": {},
   "outputs": [
    {
     "name": "stdout",
     "output_type": "stream",
     "text": [
      "Loading all runs for TD\n"
     ]
    }
   ],
   "source": [
    "td_vs_mc.run_td_all()"
   ]
  },
  {
   "cell_type": "code",
   "execution_count": 7,
   "metadata": {},
   "outputs": [
    {
     "data": {
      "text/html": [
       "\n",
       "<div id=\"altair-viz-ad208171afea42a39ea6ba970741d16e\"></div>\n",
       "<script type=\"text/javascript\">\n",
       "  var VEGA_DEBUG = (typeof VEGA_DEBUG == \"undefined\") ? {} : VEGA_DEBUG;\n",
       "  (function(spec, embedOpt){\n",
       "    let outputDiv = document.currentScript.previousElementSibling;\n",
       "    if (outputDiv.id !== \"altair-viz-ad208171afea42a39ea6ba970741d16e\") {\n",
       "      outputDiv = document.getElementById(\"altair-viz-ad208171afea42a39ea6ba970741d16e\");\n",
       "    }\n",
       "    const paths = {\n",
       "      \"vega\": \"https://cdn.jsdelivr.net/npm//vega@5?noext\",\n",
       "      \"vega-lib\": \"https://cdn.jsdelivr.net/npm//vega-lib?noext\",\n",
       "      \"vega-lite\": \"https://cdn.jsdelivr.net/npm//vega-lite@4.17.0?noext\",\n",
       "      \"vega-embed\": \"https://cdn.jsdelivr.net/npm//vega-embed@6?noext\",\n",
       "    };\n",
       "\n",
       "    function maybeLoadScript(lib, version) {\n",
       "      var key = `${lib.replace(\"-\", \"\")}_version`;\n",
       "      return (VEGA_DEBUG[key] == version) ?\n",
       "        Promise.resolve(paths[lib]) :\n",
       "        new Promise(function(resolve, reject) {\n",
       "          var s = document.createElement('script');\n",
       "          document.getElementsByTagName(\"head\")[0].appendChild(s);\n",
       "          s.async = true;\n",
       "          s.onload = () => {\n",
       "            VEGA_DEBUG[key] = version;\n",
       "            return resolve(paths[lib]);\n",
       "          };\n",
       "          s.onerror = () => reject(`Error loading script: ${paths[lib]}`);\n",
       "          s.src = paths[lib];\n",
       "        });\n",
       "    }\n",
       "\n",
       "    function showError(err) {\n",
       "      outputDiv.innerHTML = `<div class=\"error\" style=\"color:red;\">${err}</div>`;\n",
       "      throw err;\n",
       "    }\n",
       "\n",
       "    function displayChart(vegaEmbed) {\n",
       "      vegaEmbed(outputDiv, spec, embedOpt)\n",
       "        .catch(err => showError(`Javascript Error: ${err.message}<br>This usually means there's a typo in your chart specification. See the javascript console for the full traceback.`));\n",
       "    }\n",
       "\n",
       "    if(typeof define === \"function\" && define.amd) {\n",
       "      requirejs.config({paths});\n",
       "      require([\"vega-embed\"], displayChart, err => showError(`Error loading script: ${err.message}`));\n",
       "    } else {\n",
       "      maybeLoadScript(\"vega\", \"5\")\n",
       "        .then(() => maybeLoadScript(\"vega-lite\", \"4.17.0\"))\n",
       "        .then(() => maybeLoadScript(\"vega-embed\", \"6\"))\n",
       "        .catch(showError)\n",
       "        .then(() => displayChart(vegaEmbed));\n",
       "    }\n",
       "  })({\"config\": {\"view\": {\"continuousWidth\": 400, \"continuousHeight\": 300}}, \"layer\": [{\"mark\": {\"type\": \"area\", \"opacity\": 0.5}, \"encoding\": {\"color\": {\"field\": \"which\", \"type\": \"nominal\"}, \"x\": {\"field\": \"m\", \"type\": \"quantitative\"}, \"y\": {\"field\": \"lower_1_std\", \"type\": \"quantitative\"}, \"y2\": {\"field\": \"upper_1_std\"}}}, {\"mark\": {\"type\": \"line\", \"strokeWidth\": 1}, \"encoding\": {\"color\": {\"field\": \"which\", \"type\": \"nominal\"}, \"x\": {\"field\": \"m\", \"type\": \"quantitative\"}, \"y\": {\"field\": \"abs_error_mean\", \"title\": \"Ave. Abs. Error\", \"type\": \"quantitative\"}}}], \"data\": {\"name\": \"data-4a5c3bd58b6e9e509a368d19902f8eb7\"}, \"height\": 300, \"width\": 700, \"$schema\": \"https://vega.github.io/schema/vega-lite/v4.17.0.json\", \"datasets\": {\"data-4a5c3bd58b6e9e509a368d19902f8eb7\": [{\"m\": 0, \"abs_error_mean\": 0.20000000000000004, \"abs_error_std\": 0.0, \"lower_1_std\": 0.20000000000000004, \"upper_1_std\": 0.20000000000000004, \"which\": \"TD\"}, {\"m\": 1, \"abs_error_mean\": 0.18400000000000005, \"abs_error_std\": 0.0, \"lower_1_std\": 0.18400000000000005, \"upper_1_std\": 0.18400000000000005, \"which\": \"TD\"}, {\"m\": 2, \"abs_error_mean\": 0.16806881280000002, \"abs_error_std\": 0.0002118013294390993, \"lower_1_std\": 0.16785701147056092, \"upper_1_std\": 0.16828061412943912, \"which\": \"TD\"}, {\"m\": 3, \"abs_error_mean\": 0.15324195161432133, \"abs_error_std\": 0.0012476986638011013, \"lower_1_std\": 0.15199425295052024, \"upper_1_std\": 0.15448965027812242, \"which\": \"TD\"}, {\"m\": 4, \"abs_error_mean\": 0.13904952615624352, \"abs_error_std\": 0.0022508181332994088, \"lower_1_std\": 0.1367987080229441, \"upper_1_std\": 0.14130034428954294, \"which\": \"TD\"}, {\"m\": 5, \"abs_error_mean\": 0.1277952574826627, \"abs_error_std\": 0.00530677808596615, \"lower_1_std\": 0.12248847939669656, \"upper_1_std\": 0.13310203556862887, \"which\": \"TD\"}, {\"m\": 6, \"abs_error_mean\": 0.11489482405649051, \"abs_error_std\": 0.006322481532808164, \"lower_1_std\": 0.10857234252368235, \"upper_1_std\": 0.12121730558929868, \"which\": \"TD\"}, {\"m\": 7, \"abs_error_mean\": 0.10425684547359346, \"abs_error_std\": 0.007802415085399601, \"lower_1_std\": 0.09645443038819386, \"upper_1_std\": 0.11205926055899305, \"which\": \"TD\"}, {\"m\": 8, \"abs_error_mean\": 0.0943812137761604, \"abs_error_std\": 0.011503429316853801, \"lower_1_std\": 0.0828777844593066, \"upper_1_std\": 0.10588464309301421, \"which\": \"TD\"}, {\"m\": 9, \"abs_error_mean\": 0.08544261807464162, \"abs_error_std\": 0.015303450755621383, \"lower_1_std\": 0.07013916731902024, \"upper_1_std\": 0.100746068830263, \"which\": \"TD\"}, {\"m\": 10, \"abs_error_mean\": 0.07590359886917633, \"abs_error_std\": 0.017291357270554572, \"lower_1_std\": 0.05861224159862176, \"upper_1_std\": 0.0931949561397309, \"which\": \"TD\"}, {\"m\": 11, \"abs_error_mean\": 0.07267400574745334, \"abs_error_std\": 0.020739416174672006, \"lower_1_std\": 0.051934589572781326, \"upper_1_std\": 0.09341342192212534, \"which\": \"TD\"}, {\"m\": 12, \"abs_error_mean\": 0.0651586288594064, \"abs_error_std\": 0.020468977293946117, \"lower_1_std\": 0.04468965156546029, \"upper_1_std\": 0.08562760615335252, \"which\": \"TD\"}, {\"m\": 13, \"abs_error_mean\": 0.06158144726621441, \"abs_error_std\": 0.02489216909121692, \"lower_1_std\": 0.03668927817499749, \"upper_1_std\": 0.08647361635743134, \"which\": \"TD\"}, {\"m\": 14, \"abs_error_mean\": 0.059188915658546094, \"abs_error_std\": 0.027884712508593024, \"lower_1_std\": 0.031304203149953067, \"upper_1_std\": 0.08707362816713912, \"which\": \"TD\"}, {\"m\": 15, \"abs_error_mean\": 0.05637104798782448, \"abs_error_std\": 0.03230902054589318, \"lower_1_std\": 0.024062027441931304, \"upper_1_std\": 0.08868006853371765, \"which\": \"TD\"}, {\"m\": 16, \"abs_error_mean\": 0.055813622342147394, \"abs_error_std\": 0.03402423836829988, \"lower_1_std\": 0.021789383973847512, \"upper_1_std\": 0.08983786071044728, \"which\": \"TD\"}, {\"m\": 17, \"abs_error_mean\": 0.05019918173093779, \"abs_error_std\": 0.032224234084710125, \"lower_1_std\": 0.017974947646227667, \"upper_1_std\": 0.08242341581564791, \"which\": \"TD\"}, {\"m\": 18, \"abs_error_mean\": 0.047348231638466506, \"abs_error_std\": 0.031899112422965094, \"lower_1_std\": 0.015449119215501413, \"upper_1_std\": 0.07924734406143161, \"which\": \"TD\"}, {\"m\": 19, \"abs_error_mean\": 0.055388146924503126, \"abs_error_std\": 0.03392569554955346, \"lower_1_std\": 0.02146245137494967, \"upper_1_std\": 0.08931384247405658, \"which\": \"TD\"}, {\"m\": 20, \"abs_error_mean\": 0.054421542475341186, \"abs_error_std\": 0.030848094044333505, \"lower_1_std\": 0.02357344843100768, \"upper_1_std\": 0.08526963651967469, \"which\": \"TD\"}, {\"m\": 21, \"abs_error_mean\": 0.05060253386860919, \"abs_error_std\": 0.03010977202932802, \"lower_1_std\": 0.02049276183928117, \"upper_1_std\": 0.08071230589793721, \"which\": \"TD\"}, {\"m\": 22, \"abs_error_mean\": 0.04323120258221446, \"abs_error_std\": 0.0297569732865112, \"lower_1_std\": 0.013474229295703261, \"upper_1_std\": 0.07298817586872566, \"which\": \"TD\"}, {\"m\": 23, \"abs_error_mean\": 0.04407446933600095, \"abs_error_std\": 0.030521904003768408, \"lower_1_std\": 0.01355256533223254, \"upper_1_std\": 0.07459637333976936, \"which\": \"TD\"}, {\"m\": 24, \"abs_error_mean\": 0.048901636666828285, \"abs_error_std\": 0.029923698995640458, \"lower_1_std\": 0.018977937671187828, \"upper_1_std\": 0.07882533566246874, \"which\": \"TD\"}, {\"m\": 25, \"abs_error_mean\": 0.054327485892096586, \"abs_error_std\": 0.03293362802649722, \"lower_1_std\": 0.021393857865599365, \"upper_1_std\": 0.08726111391859381, \"which\": \"TD\"}, {\"m\": 26, \"abs_error_mean\": 0.05237238612854698, \"abs_error_std\": 0.0299315159838651, \"lower_1_std\": 0.02244087014468188, \"upper_1_std\": 0.08230390211241208, \"which\": \"TD\"}, {\"m\": 27, \"abs_error_mean\": 0.050496161328302536, \"abs_error_std\": 0.03191277407607551, \"lower_1_std\": 0.018583387252227024, \"upper_1_std\": 0.08240893540437805, \"which\": \"TD\"}, {\"m\": 28, \"abs_error_mean\": 0.0507684077491656, \"abs_error_std\": 0.028100364561788993, \"lower_1_std\": 0.022668043187376606, \"upper_1_std\": 0.0788687723109546, \"which\": \"TD\"}, {\"m\": 29, \"abs_error_mean\": 0.050261710124633464, \"abs_error_std\": 0.023215311166885032, \"lower_1_std\": 0.027046398957748432, \"upper_1_std\": 0.0734770212915185, \"which\": \"TD\"}, {\"m\": 30, \"abs_error_mean\": 0.05359592356146166, \"abs_error_std\": 0.024624109977420847, \"lower_1_std\": 0.02897181358404081, \"upper_1_std\": 0.0782200335388825, \"which\": \"TD\"}, {\"m\": 31, \"abs_error_mean\": 0.05373531631288233, \"abs_error_std\": 0.021876471588786413, \"lower_1_std\": 0.03185884472409592, \"upper_1_std\": 0.07561178790166874, \"which\": \"TD\"}, {\"m\": 32, \"abs_error_mean\": 0.05632841949232059, \"abs_error_std\": 0.023883322407453424, \"lower_1_std\": 0.03244509708486717, \"upper_1_std\": 0.08021174189977401, \"which\": \"TD\"}, {\"m\": 33, \"abs_error_mean\": 0.059267575818899375, \"abs_error_std\": 0.025313129179502812, \"lower_1_std\": 0.03395444663939656, \"upper_1_std\": 0.08458070499840219, \"which\": \"TD\"}, {\"m\": 34, \"abs_error_mean\": 0.05981055057527929, \"abs_error_std\": 0.02891505624904567, \"lower_1_std\": 0.030895494326233616, \"upper_1_std\": 0.08872560682432495, \"which\": \"TD\"}, {\"m\": 35, \"abs_error_mean\": 0.05976265040960129, \"abs_error_std\": 0.02981205445066016, \"lower_1_std\": 0.02995059595894113, \"upper_1_std\": 0.08957470486026145, \"which\": \"TD\"}, {\"m\": 36, \"abs_error_mean\": 0.06334220233233369, \"abs_error_std\": 0.02926349765163915, \"lower_1_std\": 0.034078704680694544, \"upper_1_std\": 0.09260569998397283, \"which\": \"TD\"}, {\"m\": 37, \"abs_error_mean\": 0.06253681386795934, \"abs_error_std\": 0.026669803996267782, \"lower_1_std\": 0.03586700987169156, \"upper_1_std\": 0.08920661786422712, \"which\": \"TD\"}, {\"m\": 38, \"abs_error_mean\": 0.06763568990990883, \"abs_error_std\": 0.027453539688126007, \"lower_1_std\": 0.04018215022178282, \"upper_1_std\": 0.09508922959803484, \"which\": \"TD\"}, {\"m\": 39, \"abs_error_mean\": 0.06609521124788169, \"abs_error_std\": 0.024760171929381278, \"lower_1_std\": 0.04133503931850041, \"upper_1_std\": 0.09085538317726297, \"which\": \"TD\"}, {\"m\": 40, \"abs_error_mean\": 0.06313096739527604, \"abs_error_std\": 0.022683448115263852, \"lower_1_std\": 0.040447519280012195, \"upper_1_std\": 0.0858144155105399, \"which\": \"TD\"}, {\"m\": 41, \"abs_error_mean\": 0.0588796543165863, \"abs_error_std\": 0.019920632440836385, \"lower_1_std\": 0.038959021875749913, \"upper_1_std\": 0.07880028675742269, \"which\": \"TD\"}, {\"m\": 42, \"abs_error_mean\": 0.06084729411260029, \"abs_error_std\": 0.027835972847334224, \"lower_1_std\": 0.03301132126526607, \"upper_1_std\": 0.08868326695993452, \"which\": \"TD\"}, {\"m\": 43, \"abs_error_mean\": 0.06133634352542654, \"abs_error_std\": 0.020687330234564285, \"lower_1_std\": 0.04064901329086225, \"upper_1_std\": 0.08202367375999083, \"which\": \"TD\"}, {\"m\": 44, \"abs_error_mean\": 0.05873199960775268, \"abs_error_std\": 0.015816901532849387, \"lower_1_std\": 0.04291509807490329, \"upper_1_std\": 0.07454890114060207, \"which\": \"TD\"}, {\"m\": 45, \"abs_error_mean\": 0.06134895521837504, \"abs_error_std\": 0.017638560176521878, \"lower_1_std\": 0.04371039504185316, \"upper_1_std\": 0.07898751539489691, \"which\": \"TD\"}, {\"m\": 46, \"abs_error_mean\": 0.06305194808518998, \"abs_error_std\": 0.02066068827619638, \"lower_1_std\": 0.042391259808993595, \"upper_1_std\": 0.08371263636138636, \"which\": \"TD\"}, {\"m\": 47, \"abs_error_mean\": 0.06066235666681521, \"abs_error_std\": 0.02612217935489195, \"lower_1_std\": 0.034540177311923256, \"upper_1_std\": 0.08678453602170716, \"which\": \"TD\"}, {\"m\": 48, \"abs_error_mean\": 0.05761905753026425, \"abs_error_std\": 0.02574451244819614, \"lower_1_std\": 0.031874545082068106, \"upper_1_std\": 0.0833635699784604, \"which\": \"TD\"}, {\"m\": 49, \"abs_error_mean\": 0.06451499307265224, \"abs_error_std\": 0.028514948332530522, \"lower_1_std\": 0.036000044740121716, \"upper_1_std\": 0.09302994140518275, \"which\": \"TD\"}, {\"m\": 50, \"abs_error_mean\": 0.06319517763897584, \"abs_error_std\": 0.026806813441196856, \"lower_1_std\": 0.03638836419777898, \"upper_1_std\": 0.09000199108017269, \"which\": \"TD\"}, {\"m\": 51, \"abs_error_mean\": 0.06557549727679132, \"abs_error_std\": 0.030549634091675073, \"lower_1_std\": 0.035025863185116246, \"upper_1_std\": 0.0961251313684664, \"which\": \"TD\"}, {\"m\": 52, \"abs_error_mean\": 0.06455769094341934, \"abs_error_std\": 0.033995963451563874, \"lower_1_std\": 0.03056172749185547, \"upper_1_std\": 0.09855365439498322, \"which\": \"TD\"}, {\"m\": 53, \"abs_error_mean\": 0.06607570641553032, \"abs_error_std\": 0.030371740734080874, \"lower_1_std\": 0.03570396568144944, \"upper_1_std\": 0.09644744714961119, \"which\": \"TD\"}, {\"m\": 54, \"abs_error_mean\": 0.06426727636541796, \"abs_error_std\": 0.02967369000673854, \"lower_1_std\": 0.034593586358679415, \"upper_1_std\": 0.0939409663721565, \"which\": \"TD\"}, {\"m\": 55, \"abs_error_mean\": 0.06637333844334961, \"abs_error_std\": 0.0245444738637596, \"lower_1_std\": 0.04182886457959001, \"upper_1_std\": 0.09091781230710921, \"which\": \"TD\"}, {\"m\": 56, \"abs_error_mean\": 0.06636575448250473, \"abs_error_std\": 0.023535965836646404, \"lower_1_std\": 0.042829788645858326, \"upper_1_std\": 0.08990172031915114, \"which\": \"TD\"}, {\"m\": 57, \"abs_error_mean\": 0.06041360418799348, \"abs_error_std\": 0.024955082585274603, \"lower_1_std\": 0.035458521602718875, \"upper_1_std\": 0.08536868677326809, \"which\": \"TD\"}, {\"m\": 58, \"abs_error_mean\": 0.05654519247081428, \"abs_error_std\": 0.023414356727115455, \"lower_1_std\": 0.03313083574369882, \"upper_1_std\": 0.07995954919792973, \"which\": \"TD\"}, {\"m\": 59, \"abs_error_mean\": 0.05833503704202282, \"abs_error_std\": 0.019862902127113415, \"lower_1_std\": 0.0384721349149094, \"upper_1_std\": 0.07819793916913624, \"which\": \"TD\"}, {\"m\": 60, \"abs_error_mean\": 0.061494925915405244, \"abs_error_std\": 0.022742849973467986, \"lower_1_std\": 0.03875207594193726, \"upper_1_std\": 0.08423777588887323, \"which\": \"TD\"}, {\"m\": 0, \"abs_error_mean\": 0.20000000000000004, \"abs_error_std\": 0.0, \"lower_1_std\": 0.20000000000000004, \"upper_1_std\": 0.20000000000000004, \"which\": \"MC\"}, {\"m\": 1, \"abs_error_mean\": 0.20288179230477663, \"abs_error_std\": 0.005183915978049006, \"lower_1_std\": 0.1976978763267276, \"upper_1_std\": 0.20806570828282564, \"which\": \"MC\"}, {\"m\": 2, \"abs_error_mean\": 0.19971280903733032, \"abs_error_std\": 0.0064344158549929946, \"lower_1_std\": 0.19327839318233733, \"upper_1_std\": 0.20614722489232332, \"which\": \"MC\"}, {\"m\": 3, \"abs_error_mean\": 0.19855424198948304, \"abs_error_std\": 0.005221282510202725, \"lower_1_std\": 0.1933329594792803, \"upper_1_std\": 0.20377552449968578, \"which\": \"MC\"}, {\"m\": 4, \"abs_error_mean\": 0.19767418869226458, \"abs_error_std\": 0.00680397986661072, \"lower_1_std\": 0.19087020882565386, \"upper_1_std\": 0.2044781685588753, \"which\": \"MC\"}, {\"m\": 5, \"abs_error_mean\": 0.19546189645966033, \"abs_error_std\": 0.008880195085610576, \"lower_1_std\": 0.18658170137404975, \"upper_1_std\": 0.20434209154527092, \"which\": \"MC\"}, {\"m\": 6, \"abs_error_mean\": 0.19346329867097878, \"abs_error_std\": 0.00877648960612676, \"lower_1_std\": 0.18468680906485202, \"upper_1_std\": 0.20223978827710554, \"which\": \"MC\"}, {\"m\": 7, \"abs_error_mean\": 0.1894572413354231, \"abs_error_std\": 0.009765587031906746, \"lower_1_std\": 0.17969165430351636, \"upper_1_std\": 0.19922282836732985, \"which\": \"MC\"}, {\"m\": 8, \"abs_error_mean\": 0.19030094273865372, \"abs_error_std\": 0.011573842464758793, \"lower_1_std\": 0.17872710027389493, \"upper_1_std\": 0.2018747852034125, \"which\": \"MC\"}, {\"m\": 9, \"abs_error_mean\": 0.18655458167338268, \"abs_error_std\": 0.011213861858041097, \"lower_1_std\": 0.17534071981534158, \"upper_1_std\": 0.19776844353142378, \"which\": \"MC\"}, {\"m\": 10, \"abs_error_mean\": 0.18509307004625314, \"abs_error_std\": 0.012904283363038609, \"lower_1_std\": 0.17218878668321452, \"upper_1_std\": 0.19799735340929175, \"which\": \"MC\"}, {\"m\": 11, \"abs_error_mean\": 0.18393811088746215, \"abs_error_std\": 0.012772754287339493, \"lower_1_std\": 0.17116535660012266, \"upper_1_std\": 0.19671086517480163, \"which\": \"MC\"}, {\"m\": 12, \"abs_error_mean\": 0.18312921538047508, \"abs_error_std\": 0.0130364770557927, \"lower_1_std\": 0.17009273832468239, \"upper_1_std\": 0.19616569243626777, \"which\": \"MC\"}, {\"m\": 13, \"abs_error_mean\": 0.18141462254177515, \"abs_error_std\": 0.01377899473688145, \"lower_1_std\": 0.1676356278048937, \"upper_1_std\": 0.1951936172786566, \"which\": \"MC\"}, {\"m\": 14, \"abs_error_mean\": 0.17962075718153406, \"abs_error_std\": 0.013417538036213488, \"lower_1_std\": 0.16620321914532057, \"upper_1_std\": 0.19303829521774754, \"which\": \"MC\"}, {\"m\": 15, \"abs_error_mean\": 0.17894678619217774, \"abs_error_std\": 0.013558425398188316, \"lower_1_std\": 0.16538836079398941, \"upper_1_std\": 0.19250521159036607, \"which\": \"MC\"}, {\"m\": 16, \"abs_error_mean\": 0.17815603213977224, \"abs_error_std\": 0.013503511744481465, \"lower_1_std\": 0.16465252039529077, \"upper_1_std\": 0.1916595438842537, \"which\": \"MC\"}, {\"m\": 17, \"abs_error_mean\": 0.17593796605882606, \"abs_error_std\": 0.013839913138425048, \"lower_1_std\": 0.162098052920401, \"upper_1_std\": 0.18977787919725111, \"which\": \"MC\"}, {\"m\": 18, \"abs_error_mean\": 0.1742092664935567, \"abs_error_std\": 0.013509800349390482, \"lower_1_std\": 0.16069946614416622, \"upper_1_std\": 0.18771906684294717, \"which\": \"MC\"}, {\"m\": 19, \"abs_error_mean\": 0.17244551420236864, \"abs_error_std\": 0.014018234794161196, \"lower_1_std\": 0.15842727940820744, \"upper_1_std\": 0.18646374899652984, \"which\": \"MC\"}, {\"m\": 20, \"abs_error_mean\": 0.17001804357081174, \"abs_error_std\": 0.013327078170907721, \"lower_1_std\": 0.15669096539990401, \"upper_1_std\": 0.18334512174171946, \"which\": \"MC\"}, {\"m\": 21, \"abs_error_mean\": 0.16821630021132933, \"abs_error_std\": 0.014630701564680914, \"lower_1_std\": 0.15358559864664842, \"upper_1_std\": 0.18284700177601024, \"which\": \"MC\"}, {\"m\": 22, \"abs_error_mean\": 0.1648201369964443, \"abs_error_std\": 0.01454864717886224, \"lower_1_std\": 0.15027148981758207, \"upper_1_std\": 0.17936878417530652, \"which\": \"MC\"}, {\"m\": 23, \"abs_error_mean\": 0.16429214016279908, \"abs_error_std\": 0.014698043701131733, \"lower_1_std\": 0.14959409646166735, \"upper_1_std\": 0.1789901838639308, \"which\": \"MC\"}, {\"m\": 24, \"abs_error_mean\": 0.1612500236896876, \"abs_error_std\": 0.016090064775739526, \"lower_1_std\": 0.1451599589139481, \"upper_1_std\": 0.17734008846542712, \"which\": \"MC\"}, {\"m\": 25, \"abs_error_mean\": 0.15973661078786155, \"abs_error_std\": 0.016580506823936334, \"lower_1_std\": 0.14315610396392522, \"upper_1_std\": 0.17631711761179789, \"which\": \"MC\"}, {\"m\": 26, \"abs_error_mean\": 0.15939382005158884, \"abs_error_std\": 0.01802240796445628, \"lower_1_std\": 0.14137141208713255, \"upper_1_std\": 0.17741622801604512, \"which\": \"MC\"}, {\"m\": 27, \"abs_error_mean\": 0.15704507199574108, \"abs_error_std\": 0.018872935537754106, \"lower_1_std\": 0.13817213645798698, \"upper_1_std\": 0.17591800753349518, \"which\": \"MC\"}, {\"m\": 28, \"abs_error_mean\": 0.15500442382028506, \"abs_error_std\": 0.017412418553822494, \"lower_1_std\": 0.13759200526646256, \"upper_1_std\": 0.17241684237410757, \"which\": \"MC\"}, {\"m\": 29, \"abs_error_mean\": 0.153657322959957, \"abs_error_std\": 0.016041546356326583, \"lower_1_std\": 0.1376157766036304, \"upper_1_std\": 0.16969886931628358, \"which\": \"MC\"}, {\"m\": 30, \"abs_error_mean\": 0.15217656191844506, \"abs_error_std\": 0.01720049732743749, \"lower_1_std\": 0.13497606459100758, \"upper_1_std\": 0.16937705924588253, \"which\": \"MC\"}, {\"m\": 31, \"abs_error_mean\": 0.15005628678961236, \"abs_error_std\": 0.01737367219089706, \"lower_1_std\": 0.1326826145987153, \"upper_1_std\": 0.1674299589805094, \"which\": \"MC\"}, {\"m\": 32, \"abs_error_mean\": 0.14773893280522926, \"abs_error_std\": 0.01583520810336085, \"lower_1_std\": 0.1319037247018684, \"upper_1_std\": 0.16357414090859013, \"which\": \"MC\"}, {\"m\": 33, \"abs_error_mean\": 0.14739547732809635, \"abs_error_std\": 0.016944100769656967, \"lower_1_std\": 0.13045137655843939, \"upper_1_std\": 0.16433957809775332, \"which\": \"MC\"}, {\"m\": 34, \"abs_error_mean\": 0.1462018012663109, \"abs_error_std\": 0.016791161636674386, \"lower_1_std\": 0.12941063962963653, \"upper_1_std\": 0.1629929629029853, \"which\": \"MC\"}, {\"m\": 35, \"abs_error_mean\": 0.14651525490508902, \"abs_error_std\": 0.017803459726101433, \"lower_1_std\": 0.1287117951789876, \"upper_1_std\": 0.16431871463119044, \"which\": \"MC\"}, {\"m\": 36, \"abs_error_mean\": 0.14665533939821435, \"abs_error_std\": 0.01834424401026014, \"lower_1_std\": 0.1283110953879542, \"upper_1_std\": 0.16499958340847448, \"which\": \"MC\"}, {\"m\": 37, \"abs_error_mean\": 0.1447324882250851, \"abs_error_std\": 0.018119487899590257, \"lower_1_std\": 0.12661300032549486, \"upper_1_std\": 0.16285197612467536, \"which\": \"MC\"}, {\"m\": 38, \"abs_error_mean\": 0.14546392864307622, \"abs_error_std\": 0.02170491809651605, \"lower_1_std\": 0.12375901054656017, \"upper_1_std\": 0.16716884673959226, \"which\": \"MC\"}, {\"m\": 39, \"abs_error_mean\": 0.1436483646662247, \"abs_error_std\": 0.021359551206854583, \"lower_1_std\": 0.12228881345937011, \"upper_1_std\": 0.16500791587307928, \"which\": \"MC\"}, {\"m\": 40, \"abs_error_mean\": 0.1396832736826704, \"abs_error_std\": 0.02085747321201877, \"lower_1_std\": 0.11882580047065162, \"upper_1_std\": 0.16054074689468917, \"which\": \"MC\"}, {\"m\": 41, \"abs_error_mean\": 0.1407568877367604, \"abs_error_std\": 0.02128879929348319, \"lower_1_std\": 0.1194680884432772, \"upper_1_std\": 0.16204568703024358, \"which\": \"MC\"}, {\"m\": 42, \"abs_error_mean\": 0.13919710039513086, \"abs_error_std\": 0.02432891343937472, \"lower_1_std\": 0.11486818695575614, \"upper_1_std\": 0.16352601383450557, \"which\": \"MC\"}, {\"m\": 43, \"abs_error_mean\": 0.13626695188416565, \"abs_error_std\": 0.022794300478960958, \"lower_1_std\": 0.1134726514052047, \"upper_1_std\": 0.15906125236312663, \"which\": \"MC\"}, {\"m\": 44, \"abs_error_mean\": 0.1313617348215887, \"abs_error_std\": 0.020232555338372798, \"lower_1_std\": 0.11112917948321589, \"upper_1_std\": 0.15159429015996148, \"which\": \"MC\"}, {\"m\": 45, \"abs_error_mean\": 0.12836990272724622, \"abs_error_std\": 0.023338159694328713, \"lower_1_std\": 0.1050317430329175, \"upper_1_std\": 0.15170806242157492, \"which\": \"MC\"}, {\"m\": 46, \"abs_error_mean\": 0.12743133357718509, \"abs_error_std\": 0.022246327445037257, \"lower_1_std\": 0.10518500613214783, \"upper_1_std\": 0.14967766102222235, \"which\": \"MC\"}, {\"m\": 47, \"abs_error_mean\": 0.12738035697805136, \"abs_error_std\": 0.02160088278354497, \"lower_1_std\": 0.1057794741945064, \"upper_1_std\": 0.14898123976159633, \"which\": \"MC\"}, {\"m\": 48, \"abs_error_mean\": 0.12566125623132787, \"abs_error_std\": 0.02166983724226871, \"lower_1_std\": 0.10399141898905917, \"upper_1_std\": 0.14733109347359657, \"which\": \"MC\"}, {\"m\": 49, \"abs_error_mean\": 0.12580435171805004, \"abs_error_std\": 0.022585896579519774, \"lower_1_std\": 0.10321845513853027, \"upper_1_std\": 0.1483902482975698, \"which\": \"MC\"}, {\"m\": 50, \"abs_error_mean\": 0.12482118757103011, \"abs_error_std\": 0.023555805351739883, \"lower_1_std\": 0.10126538221929023, \"upper_1_std\": 0.14837699292276998, \"which\": \"MC\"}, {\"m\": 51, \"abs_error_mean\": 0.12314177547177411, \"abs_error_std\": 0.026087427308833643, \"lower_1_std\": 0.09705434816294048, \"upper_1_std\": 0.14922920278060775, \"which\": \"MC\"}, {\"m\": 52, \"abs_error_mean\": 0.12461039119014965, \"abs_error_std\": 0.024998337563091604, \"lower_1_std\": 0.09961205362705805, \"upper_1_std\": 0.14960872875324124, \"which\": \"MC\"}, {\"m\": 53, \"abs_error_mean\": 0.12487983528650193, \"abs_error_std\": 0.02315879061586534, \"lower_1_std\": 0.10172104467063658, \"upper_1_std\": 0.14803862590236727, \"which\": \"MC\"}, {\"m\": 54, \"abs_error_mean\": 0.1253000844218832, \"abs_error_std\": 0.024714777787046633, \"lower_1_std\": 0.10058530663483657, \"upper_1_std\": 0.15001486220892984, \"which\": \"MC\"}, {\"m\": 55, \"abs_error_mean\": 0.12214632007588663, \"abs_error_std\": 0.023744383930360234, \"lower_1_std\": 0.09840193614552639, \"upper_1_std\": 0.14589070400624687, \"which\": \"MC\"}, {\"m\": 56, \"abs_error_mean\": 0.12217556449164817, \"abs_error_std\": 0.025190423679521987, \"lower_1_std\": 0.09698514081212618, \"upper_1_std\": 0.14736598817117016, \"which\": \"MC\"}, {\"m\": 57, \"abs_error_mean\": 0.12023869137724966, \"abs_error_std\": 0.022696023263071574, \"lower_1_std\": 0.09754266811417808, \"upper_1_std\": 0.14293471464032123, \"which\": \"MC\"}, {\"m\": 58, \"abs_error_mean\": 0.11890472791748403, \"abs_error_std\": 0.022665563228796804, \"lower_1_std\": 0.09623916468868723, \"upper_1_std\": 0.14157029114628084, \"which\": \"MC\"}, {\"m\": 59, \"abs_error_mean\": 0.11719444700950447, \"abs_error_std\": 0.02303988064254921, \"lower_1_std\": 0.09415456636695527, \"upper_1_std\": 0.14023432765205368, \"which\": \"MC\"}, {\"m\": 60, \"abs_error_mean\": 0.11687041868851715, \"abs_error_std\": 0.024015679533518172, \"lower_1_std\": 0.09285473915499898, \"upper_1_std\": 0.14088609822203532, \"which\": \"MC\"}]}}, {\"mode\": \"vega-lite\"});\n",
       "</script>"
      ],
      "text/plain": [
       "alt.LayerChart(...)"
      ]
     },
     "execution_count": 7,
     "metadata": {},
     "output_type": "execute_result"
    }
   ],
   "source": [
    "td_vs_mc.plot_errors_td_vs_mc(alpha_mc=0.01, alpha_td=0.16, n_steps=1, height=300, width=700)"
   ]
  }
 ],
 "metadata": {
  "kernelspec": {
   "display_name": "Python 3",
   "language": "python",
   "name": "python3"
  },
  "language_info": {
   "codemirror_mode": {
    "name": "ipython",
    "version": 3
   },
   "file_extension": ".py",
   "mimetype": "text/x-python",
   "name": "python",
   "nbconvert_exporter": "python",
   "pygments_lexer": "ipython3",
   "version": "3.9.7"
  }
 },
 "nbformat": 4,
 "nbformat_minor": 2
}
